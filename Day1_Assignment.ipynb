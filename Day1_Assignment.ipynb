{
 "cells": [
  {
   "cell_type": "markdown",
   "metadata": {},
   "source": [
    "   ## Getting it right is not as important as sincere attempts - Solve with intregrity"
   ]
  },
  {
   "cell_type": "markdown",
   "metadata": {},
   "source": [
    "## Section A--ITP  "
   ]
  },
  {
   "cell_type": "markdown",
   "metadata": {},
   "source": [
    "#### 1. Given a two list of integers, create a third list such that it should contain only odd numbers from the first list and even numbers from the second list? \n"
   ]
  },
  {
   "cell_type": "code",
   "execution_count": 28,
   "metadata": {},
   "outputs": [],
   "source": [
    "list1 = [10, 20, 23, 11, 17]\n",
    "list2 = [13, 43, 24, 36, 12]"
   ]
  },
  {
   "cell_type": "code",
   "execution_count": 2,
   "metadata": {},
   "outputs": [
    {
     "name": "stdout",
     "output_type": "stream",
     "text": [
      "[23, 11, 17, 24, 36, 12]\n"
     ]
    }
   ],
   "source": [
    "list3=[]\n",
    "list1 = [10, 20, 23, 11, 17]\n",
    "list2 = [13, 43, 24, 36, 12]\n",
    "for i in list1:\n",
    "    if i%2!=0:\n",
    "        list3.append(i)\n",
    "for i in list2:\n",
    "    if i%2==0:\n",
    "        list3.append(i)\n",
    "print(list3)"
   ]
  },
  {
   "cell_type": "markdown",
   "metadata": {},
   "source": [
    "#### 2. Write a Python Program to Find the Sum of the Series: 1 + 1/2 + 1/3 + ….. + 1/N? "
   ]
  },
  {
   "cell_type": "code",
   "execution_count": 34,
   "metadata": {},
   "outputs": [
    {
     "name": "stdout",
     "output_type": "stream",
     "text": [
      "Enter an integer : 4\n"
     ]
    }
   ],
   "source": [
    "N = int(input(\"Enter an integer : \"))"
   ]
  },
  {
   "cell_type": "code",
   "execution_count": 26,
   "metadata": {},
   "outputs": [
    {
     "name": "stdout",
     "output_type": "stream",
     "text": [
      "Enter an integer: 4\n",
      "2.083333333333333\n"
     ]
    }
   ],
   "source": [
    "def sum_func(N):\n",
    "    my_list = []\n",
    "    \n",
    "    if N <= 1:  # Changed condition to handle N <= 1\n",
    "        my_list.append(N)\n",
    "    else:\n",
    "        while N > 1:\n",
    "            my_list.append(1 / N)  # Append the reciprocal of N\n",
    "            N -= 1\n",
    "        my_list += sum_func(N)  # Concatenate the list recursively\n",
    "    \n",
    "    return my_list\n",
    "\n",
    "N = int(input(\"Enter an integer: \"))\n",
    "sum1 = sum_func(N)\n",
    "result = sum(sum1)\n",
    "print(result)\n"
   ]
  },
  {
   "cell_type": "markdown",
   "metadata": {},
   "source": [
    "#### 3.Python Program which will find all which are divisible by 3, between 4000 and 4200. \n"
   ]
  },
  {
   "cell_type": "code",
   "execution_count": 7,
   "metadata": {},
   "outputs": [
    {
     "name": "stdout",
     "output_type": "stream",
     "text": [
      "[4002, 4005, 4008, 4011, 4014, 4017, 4020, 4023, 4026, 4029, 4032, 4035, 4038, 4041, 4044, 4047, 4050, 4053, 4056, 4059, 4062, 4065, 4068, 4071, 4074, 4077, 4080, 4083, 4086, 4089, 4092, 4095, 4098, 4101, 4104, 4107, 4110, 4113, 4116, 4119, 4122, 4125, 4128, 4131, 4134, 4137, 4140, 4143, 4146, 4149, 4152, 4155, 4158, 4161, 4164, 4167, 4170, 4173, 4176, 4179, 4182, 4185, 4188, 4191, 4194, 4197]\n"
     ]
    }
   ],
   "source": [
    "numbers=[num for num in range(4000,4200) if num%3==0]\n",
    "print(numbers)"
   ]
  },
  {
   "cell_type": "markdown",
   "metadata": {},
   "source": [
    "## Section B--NPV  "
   ]
  },
  {
   "cell_type": "code",
   "execution_count": 4,
   "metadata": {},
   "outputs": [],
   "source": [
    "## The dataset contains the information of the three different species of the iris flower. The dataset contains values of \n",
    "## four features (sepal length, sepal width, petal length, and petal width) of each flower and the species of iris.\n",
    "\n",
    "#Attribute Information:\n",
    "\n",
    "#sepal length: Sepal length of a flower in cm\n",
    "\n",
    "#sepal width: Sepal width of a flower in cm\n",
    "\n",
    "#petal length: Petal length of a flower in cm\n",
    "\n",
    "#petal width: Petal width of a flower in cm\n",
    "\n",
    "#class: Species of the iris flower"
   ]
  },
  {
   "cell_type": "markdown",
   "metadata": {
    "colab_type": "text",
    "id": "g70gEUMU84VB"
   },
   "source": [
    "<span style=\"font-family: Arial; font-weight:bold;font-size:1.5em;color:#db0b49;\">1. Read the given Dataset \"iris.csv\".\n",
    "\n",
    "A.\tLoad the iris dataset and print the first five observations.\n",
    "    \n",
    "B.  Print the last five observations\n",
    "    \n",
    "C.  Find the number of rows and columns present in it.     \n",
    "\n",
    "D.\tIdentify how many unique classes exist. \n",
    "\n",
    "E.\tFind the largest \"petal length\" and \"petal width\". \n",
    " \n"
   ]
  },
  {
   "cell_type": "code",
   "execution_count": 5,
   "metadata": {},
   "outputs": [],
   "source": [
    "%matplotlib inline\n",
    "import matplotlib.pyplot as plt\n",
    "import numpy as np\n",
    "import pandas as pd\n",
    "import math\n",
    "import seaborn as sns"
   ]
  },
  {
   "cell_type": "code",
   "execution_count": 25,
   "metadata": {},
   "outputs": [
    {
     "name": "stdout",
     "output_type": "stream",
     "text": [
      "   sepal length  sepal width  petal length  petal width   class\n",
      "0           5.1          3.5           1.4          0.2  setosa\n",
      "1           4.9          3.0           1.4          0.2  setosa\n",
      "2           4.7          3.2           1.3          0.2  setosa\n",
      "3           4.6          3.1           1.5          0.2  setosa\n",
      "4           5.0          3.6           1.4          0.2  setosa\n",
      "     sepal length  sepal width  petal length  petal width      class\n",
      "145           6.7          3.0           5.2          2.3  virginica\n",
      "146           6.3          2.5           5.0          1.9  virginica\n",
      "147           6.5          3.0           5.2          2.0  virginica\n",
      "148           6.2          3.4           5.4          2.3  virginica\n",
      "149           5.9          3.0           5.1          1.8  virginica\n",
      "the number of rows and columns are:(150, 5)\n",
      "the number of unique classes are: 3\n",
      "The largest petal length is: 6.9\n",
      "The largest petal width is: 2.5\n"
     ]
    }
   ],
   "source": [
    "import pandas as pd\n",
    "iris_df=pd.read_csv('iris.csv')\n",
    "print(iris_df.head())\n",
    "print(iris_df.tail())\n",
    "shape=iris_df.shape\n",
    "print(f'the number of rows and columns are:{shape}')\n",
    "unique_classes=iris_df['class'].unique()\n",
    "print('the number of unique classes are:',len(unique_classes))\n",
    "print('The largest petal length is:',iris_df['petal length'].max())\n",
    "print('The largest petal width is:',iris_df['petal width'].max())"
   ]
  },
  {
   "cell_type": "code",
   "execution_count": null,
   "metadata": {},
   "outputs": [],
   "source": []
  },
  {
   "cell_type": "code",
   "execution_count": null,
   "metadata": {},
   "outputs": [],
   "source": []
  },
  {
   "cell_type": "code",
   "execution_count": null,
   "metadata": {},
   "outputs": [],
   "source": []
  }
 ],
 "metadata": {
  "kernelspec": {
   "display_name": "Python 3 (ipykernel)",
   "language": "python",
   "name": "python3"
  },
  "language_info": {
   "codemirror_mode": {
    "name": "ipython",
    "version": 3
   },
   "file_extension": ".py",
   "mimetype": "text/x-python",
   "name": "python",
   "nbconvert_exporter": "python",
   "pygments_lexer": "ipython3",
   "version": "3.10.9"
  }
 },
 "nbformat": 4,
 "nbformat_minor": 4
}
